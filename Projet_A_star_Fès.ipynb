{
 "cells": [
  {
   "cell_type": "markdown",
   "id": "1bd07fef",
   "metadata": {},
   "source": [
    "# Mini Projet de théorie des graphes en utilisant A*"
   ]
  },
  {
   "cell_type": "markdown",
   "id": "bc883e9e",
   "metadata": {},
   "source": [
    "# les bibliothèques utilisées"
   ]
  },
  {
   "cell_type": "code",
   "execution_count": 2,
   "id": "da99314e",
   "metadata": {},
   "outputs": [],
   "source": [
    "import osmnx as ox\n",
    "import networkx as nx\n",
    "import geopy\n",
    "from geopy.geocoders import Nominatim\n",
    "import osmnx as ox\n",
    "import networkx as nx\n",
    "import matplotlib.pyplot as plt\n",
    "from tkinter import Tk, Label, Button, StringVar, OptionMenu\n",
    "import os\n",
    "import webbrowser\n",
    "import folium"
   ]
  },
  {
   "cell_type": "markdown",
   "id": "c1ba9391",
   "metadata": {},
   "source": [
    "# Matrice"
   ]
  },
  {
   "cell_type": "code",
   "execution_count": 3,
   "id": "6c948f1b",
   "metadata": {},
   "outputs": [],
   "source": [
    "place_name = \"Fes, Morocco\"\n",
    "graph1 = ox.graph_from_place(place_name, network_type='all')\n",
    "\n",
    "# Itérez sur les nœuds du graphe et imprimez les coordonnées de chaque point\n",
    "def matrice_adj(max_points_to_print = 100,points_printed = 0,M=[],graph=graph1):\n",
    "    for node, data in graph.nodes(data=True):\n",
    "        if points_printed < max_points_to_print:\n",
    "            M.append((data['y'],data['x']))\n",
    "            points_printed += 1\n",
    "        else:\n",
    "            break\n",
    "    return M"
   ]
  },
  {
   "cell_type": "markdown",
   "id": "f0fb2101",
   "metadata": {},
   "source": [
    "# Dictionnaire"
   ]
  },
  {
   "cell_type": "code",
   "execution_count": 4,
   "id": "54d2450b",
   "metadata": {},
   "outputs": [],
   "source": [
    "geolocator = Nominatim(user_agent=\"my_geocoder\")\n",
    "\n",
    "coordinates = matrice_adj()\n",
    "\n",
    "def loca(coordinate=coordinates,locations_dict={}):\n",
    "    for coord in coordinate:\n",
    "        location = geolocator.reverse(coord, language=\"fr\")\n",
    "        locations_dict[location.address] = coord\n",
    "    return locations_dict\n"
   ]
  },
  {
   "cell_type": "markdown",
   "id": "6edb61e9",
   "metadata": {},
   "source": [
    "# Recherche de plus court chemin avec A*"
   ]
  },
  {
   "cell_type": "code",
   "execution_count": null,
   "id": "9b162bd3",
   "metadata": {},
   "outputs": [],
   "source": [
    "class ShortestPathApp:\n",
    "    def __init__(self, master):\n",
    "        self.master = master\n",
    "        master.title(\"plus court chemin dans la ville Fès\")\n",
    "\n",
    "        # Define locations_dict before using it in __init__\n",
    "        self.locations_dict = loca()\n",
    "        self.label_start = Label(master, text=\"Point de départ:\")\n",
    "        self.label_start.grid(row=0, column=0, sticky=\"w\", padx=10, pady=5)\n",
    "\n",
    "        self.start_location_var = StringVar()\n",
    "        self.entry_start = OptionMenu(master, self.start_location_var, *self.get_predefined_places())\n",
    "        self.entry_start.grid(row=0, column=1, columnspan=2, pady=5)\n",
    "\n",
    "        self.label_end = Label(master, text=\"Point d'arrivée:\")\n",
    "        self.label_end.grid(row=1, column=0, sticky=\"w\", padx=10, pady=5)\n",
    "\n",
    "        self.end_location_var = StringVar()\n",
    "        self.entry_end = OptionMenu(master, self.end_location_var, *self.get_predefined_places())\n",
    "        self.entry_end.grid(row=1, column=1, columnspan=2, pady=5)\n",
    "\n",
    "        self.button_find_path = Button(master, text=\"Trouver le chemin le plus court\", command=self.find_shortest_path)\n",
    "        self.button_find_path.grid(row=2, column=0, columnspan=3, pady=10)\n",
    "        \n",
    "    def a_star(self, graph, start_node, end_node, heuristic, cost):\n",
    "        open_list = [(0, start_node)]\n",
    "        closed_set = set()\n",
    "        came_from = {}\n",
    "        g_score = {node: float('inf') for node in graph.nodes}\n",
    "        g_score[start_node] = 0\n",
    "        f_score = {node: float('inf') for node in graph.nodes}\n",
    "        f_score[start_node] = heuristic(start_node, end_node)\n",
    "        \n",
    "        while open_list:\n",
    "            current_f, current_node = min(open_list)\n",
    "            if current_node == end_node:\n",
    "                path = [current_node]\n",
    "                while current_node in came_from:\n",
    "                    current_node = came_from[current_node]\n",
    "                    path.append(current_node)\n",
    "                return path[::-1]\n",
    "            \n",
    "            open_list.remove((current_f, current_node))\n",
    "            closed_set.add(current_node)\n",
    "            \n",
    "            for neighbor in graph.neighbors(current_node):\n",
    "                if neighbor in closed_set:\n",
    "                    continue\n",
    "                edge_data = graph.get_edge_data(current_node, neighbor)\n",
    "                if edge_data:\n",
    "                    edge_length = edge_data.get('length', 1)  # Change 'length' to the correct key in your graph\n",
    "                    tentative_g_score = g_score[current_node] + cost(current_node, neighbor, edge_length)\n",
    "                    if tentative_g_score < g_score[neighbor]:\n",
    "                        came_from[neighbor] = current_node\n",
    "                        g_score[neighbor] = tentative_g_score\n",
    "                        f_score[neighbor] = tentative_g_score + heuristic(neighbor, end_node)\n",
    "                        if (f_score[neighbor], neighbor) not in open_list:\n",
    "                            open_list.append((f_score[neighbor], neighbor))\n",
    "        return None\n",
    "    \n",
    "    def find_shortest_path(self):\n",
    "        start_location = self.start_location_var.get()\n",
    "        end_location = self.end_location_var.get()\n",
    "        start_coordinates = self.locations_dict.get(start_location)\n",
    "        end_coordinates = self.locations_dict.get(end_location)\n",
    "\n",
    "        if start_coordinates is not None and end_coordinates is not None:\n",
    "            graph = ox.graph_from_place(\"Fes, Morocco\", network_type='all')\n",
    "\n",
    "            start_node = ox.distance.nearest_nodes(graph, start_coordinates[1], start_coordinates[0])\n",
    "            end_node = ox.distance.nearest_nodes(graph, end_coordinates[1], end_coordinates[0])\n",
    "            heuristic = lambda u, v: ox.distance.euclidean(graph.nodes[u]['y'], graph.nodes[u]['x'], graph.nodes[v]['y'], graph.nodes[v]['x'])\n",
    "\n",
    "            # Utiliser votre propre implémentation de A*\n",
    "            shortest_path = self.a_star(graph, start_node, end_node, heuristic, cost=lambda u, v, length: 1)\n",
    "\n",
    "            # Create a Folium map centered around Fes\n",
    "            m = folium.Map(location=[34.0181, -5.0077], zoom_start=13, control_scale=True)\n",
    "\n",
    "            # Plot the shortest path\n",
    "            path_coordinates = [[graph.nodes[node]['y'], graph.nodes[node]['x']] for node in shortest_path]\n",
    "            folium.PolyLine(locations=path_coordinates, color='blue', weight=5, opacity=0.8).add_to(m)\n",
    "\n",
    "            # Plot start and end locations\n",
    "            folium.Marker(location=[start_coordinates[1], start_coordinates[0]], icon=folium.Icon(color='green')).add_to(m)\n",
    "            folium.Marker(location=[end_coordinates[1], end_coordinates[0]], icon=folium.Icon(color='red')).add_to(m)\n",
    "\n",
    "            # Display the map\n",
    "            m.save('shortest_path_map.html')\n",
    "            webbrowser.open('shortest_path_map.html')\n",
    "    def get_predefined_places(self):\n",
    "        return list(self.locations_dict.keys())\n",
    "if __name__ == \"__main__\":\n",
    "    root = Tk()\n",
    "    app = ShortestPathApp(root)\n",
    "    root.mainloop()\n"
   ]
  },
  {
   "cell_type": "code",
   "execution_count": null,
   "id": "c13228b4",
   "metadata": {},
   "outputs": [],
   "source": []
  }
 ],
 "metadata": {
  "kernelspec": {
   "display_name": "Python 3 (ipykernel)",
   "language": "python",
   "name": "python3"
  },
  "language_info": {
   "codemirror_mode": {
    "name": "ipython",
    "version": 3
   },
   "file_extension": ".py",
   "mimetype": "text/x-python",
   "name": "python",
   "nbconvert_exporter": "python",
   "pygments_lexer": "ipython3",
   "version": "3.11.5"
  }
 },
 "nbformat": 4,
 "nbformat_minor": 5
}
